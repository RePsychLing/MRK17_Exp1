{
  "cells": [
    {
      "cell_type": "markdown",
      "source": [
        "# RePsychLing &#39;Masson, Rabe, &amp; Kliegl, 2017)&#39; with Julia\n### Reinhold Kliegl\n### 2020-02-13\n# Update\n\nThis version uses `MixedModels.PCA()` to show details about RE structures. \n\n# Setup\n\nPackages we (might) use."
      ],
      "metadata": {}
    },
    {
      "outputs": [],
      "cell_type": "code",
      "source": [
        "#cd(joinpath(homedir(),\"Google Drive/ZiF_CG_WS2/MRK17_Exp1/\"))\n#cd(\"/Users/reinholdkliegl/Google Drive/ZiF_CG_WS2/MRK17_Exp1/\")\n\nusing CSV, DataFrames, DataFramesMeta, MixedModels, RCall \nusing StatsBase, StatsModels, BenchmarkTools\n\n# earlier alternative for for LRT\n# using Printf: @sprintf\n# using Distributions: Chisq, ccdf\n# include(\"lrtest.jl\")"
      ],
      "metadata": {},
      "execution_count": null
    },
    {
      "cell_type": "markdown",
      "source": [
        "# Reading data\n\nWe read the data preprocessed with R and saved as RDS file (see `DataPrep.Rmd` for details)."
      ],
      "metadata": {}
    },
    {
      "outputs": [],
      "cell_type": "code",
      "source": [
        "R\"dat_r = readRDS('MRK17_Exp1.rds')\";\n\ndat = rcopy(R\"dat_r\")\n\ndat = @linq dat |>\n       transform(F = levels!(:F, [\"HF\", \"LF\"]),\n                 P = levels!(:P, [\"rel\", \"unr\"]),\n                 Q = levels!(:Q, [\"clr\", \"deg\"]),\n                lQ = levels!(:lQ, [\"clr\", \"deg\"]),\n                lT = levels!(:lT, [\"WD\", \"NW\"]))\n\ncellmeans = by(dat, [:F, :P, :Q, :lQ, :lT], \n            meanRT = :rt => mean, sdRT = :rt => std, n = :rt => length,\n            semean = :rt => x -> std(x)/sqrt(length(x)))"
      ],
      "metadata": {},
      "execution_count": null
    },
    {
      "cell_type": "markdown",
      "source": [
        "# Complex LMM\n\nThis is *not* the maximal factorial LMM because we do not include interaction \nterms and associated correlation parameters in the RE structure.\n\n## Model fit"
      ],
      "metadata": {}
    },
    {
      "outputs": [],
      "cell_type": "code",
      "source": [
        "const HC = HelmertCoding();\nconst contrasts = Dict(:F => HC, :P => HC, :Q => HC, :lQ => HC, :lT => HC);\n\nm1form = @formula (-1000/rt) ~ 1+F*P*Q*lQ*lT +\n                              (1+F+P+Q+lQ+lT | Subj) +\n                              (1+P+Q+lQ+lT | Item);\ncmplxLMM = @btime fit(MixedModel, m1form, dat, contrasts=contrasts);"
      ],
      "metadata": {},
      "execution_count": null
    },
    {
      "cell_type": "markdown",
      "source": [
        "## VCs and CPs\n\nWe don't look at fixed effects before model selection."
      ],
      "metadata": {}
    },
    {
      "outputs": [],
      "cell_type": "code",
      "source": [
        "cmplxLMM.λ[1]"
      ],
      "metadata": {},
      "execution_count": null
    },
    {
      "outputs": [],
      "cell_type": "code",
      "source": [
        "cmplxLMM.λ[2]"
      ],
      "metadata": {},
      "execution_count": null
    },
    {
      "cell_type": "markdown",
      "source": [
        "##  rePCA\n\nOptions for information about rePCAs\n\n```\nBase.show(pca::PCA;\n          ndigitsmat=2, ndigitsvec=2, ndigitscum=4,\n          covcor=true, loadings=true, variances=false, stddevs=false)\n```"
      ],
      "metadata": {}
    },
    {
      "outputs": [],
      "cell_type": "code",
      "source": [
        "cmplxLMM.rePCA"
      ],
      "metadata": {},
      "execution_count": null
    },
    {
      "outputs": [],
      "cell_type": "code",
      "source": [
        "cmplx_pca=MixedModels.PCA(cmplxLMM, corr=false);\nshow(stdout, cmplx_pca.Subj, ndigitsmat=4, ndigitsvec=6, variances=true, stddevs=true)\nshow(stdout, cmplx_pca.Item, ndigitsmat=4, ndigitsvec=6, variances=true, stddevs=true)"
      ],
      "metadata": {},
      "execution_count": null
    },
    {
      "outputs": [],
      "cell_type": "code",
      "source": [
        "cmplx_pca=MixedModels.PCA(cmplxLMM, corr=true);\nshow(stdout, cmplx_pca.Subj)\nshow(stdout, cmplx_pca.Item)"
      ],
      "metadata": {},
      "execution_count": null
    },
    {
      "outputs": [],
      "cell_type": "code",
      "source": [
        "cmplx_pca=MixedModels.PCA(cmplxLMM, corr=false);\nshow(stdout, cmplx_pca.Subj)\nshow(stdout, cmplx_pca.Item, stddevs=true, loadings=false)"
      ],
      "metadata": {},
      "execution_count": null
    },
    {
      "cell_type": "markdown",
      "source": [
        "Variance-covariance matrix of random-effect structure suggests overparameterization\nfor both subject-related and item-related components.\n\n\n# Zero-correlation parameter LMM (factors)\n\n## Model fit\n\nWe take out correlation parameters."
      ],
      "metadata": {}
    },
    {
      "outputs": [],
      "cell_type": "code",
      "source": [
        "m2form = @formula (-1000/rt) ~ 1 + F*P*Q*lQ*lT +\n                               zerocorr(1+F+P+Q+lQ+lT | Subj) +\n                               zerocorr(1+P+Q+lQ+lT | Item);\n\nzcpLMM = @btime fit(LinearMixedModel, m2form, dat, contrasts=contrasts);"
      ],
      "metadata": {},
      "execution_count": null
    },
    {
      "cell_type": "markdown",
      "source": [
        "## VCs and CPs"
      ],
      "metadata": {}
    },
    {
      "outputs": [],
      "cell_type": "code",
      "source": [
        "zcpLMM.λ[1]"
      ],
      "metadata": {},
      "execution_count": null
    },
    {
      "outputs": [],
      "cell_type": "code",
      "source": [
        "zcpLMM.λ[2]"
      ],
      "metadata": {},
      "execution_count": null
    },
    {
      "cell_type": "markdown",
      "source": [
        "##  rePCA\n\nOptions for information about rePCAs\n\n```\nBase.show(pca::PCA;\n          ndigitsmat=2, ndigitsvec=2, ndigitscum=4,\n          covcor=true, loadings=true, variances=false, stddevs=false)\n```"
      ],
      "metadata": {}
    },
    {
      "outputs": [],
      "cell_type": "code",
      "source": [
        "show(stdout, zcpLMM.rePCA)\n\nzcp_pca=MixedModels.PCA(zcpLMM, corr=true);\nshow(stdout, zcp_pca.Subj, stddevs=true)\nshow(stdout, zcp_pca.Item, stddevs=true)"
      ],
      "metadata": {},
      "execution_count": null
    },
    {
      "cell_type": "markdown",
      "source": [
        "Looks ok, but the last PCs are very tiny. Might be a good idea to prune the LMM. \n\n# Zero-correlation parameter LMM (indicators)\n\nAn alternative solution is to extract the indicators of contrasts from the design matrix.\nSometimes RE structures are more conviently specified with indicator variables (i.e., \n@ level of contrasts) than the factors."
      ],
      "metadata": {}
    },
    {
      "outputs": [],
      "cell_type": "code",
      "source": [
        "mm = Int.(zcpLMM.X)\n\ndat = @linq dat |>\n       transform(f = mm[:, 2],\n                 p = mm[:, 3],\n                 q = mm[:, 4],\n                lq = mm[:, 5],\n                lt = mm[:, 6]);\ndat[1:10, 10:14]"
      ],
      "metadata": {},
      "execution_count": null
    },
    {
      "cell_type": "markdown",
      "source": [
        "We take out correlation parameters."
      ],
      "metadata": {}
    },
    {
      "outputs": [],
      "cell_type": "code",
      "source": [
        "m2form_b = @formula (-1000/rt) ~ 1 + f*p*q*lq*lt +\n (1 | Subj) + (0+f | Subj) + (0+p | Subj) + (0+q | Subj) + (0+lq | Subj) + (0+lt | Subj) +\n (1 | Item) +                (0+p | Item) + (0+q | Item) + (0+lq | Item) + (0+lt | Item);\n\nzcpLMM_b = @btime fit(LinearMixedModel, m2form_b, dat, contrasts=contrasts);\n\nconst mods = [cmplxLMM, zcpLMM, zcpLMM_b];"
      ],
      "metadata": {},
      "execution_count": null
    },
    {
      "outputs": [],
      "cell_type": "code",
      "source": [
        "gof_summary = DataFrame(dof=dof.(mods), deviance=deviance.(mods),\n              AIC = aic.(mods), AICc = aicc.(mods), BIC = bic.(mods))"
      ],
      "metadata": {},
      "execution_count": null
    },
    {
      "outputs": [],
      "cell_type": "code",
      "source": [
        "#lrtest(cmplxLMM, zcpLMM) # earlier alternative\nMixedModels.likelihoodratiotest(zcpLMM, cmplxLMM)"
      ],
      "metadata": {},
      "execution_count": null
    },
    {
      "cell_type": "markdown",
      "source": [
        "Results are identical; goodness of fit is better for complex LMM -- \nmarginally because 2 * ΔDOF < ΔDeviance). \n\n# A replication of MRK17 LMM\n\n## Indicators\n\nReplication of final LMM in Masson and Kliegl (2013, Table 1) as well as\nreproduction of final lme4-based LMM in Masson, Rabe, and Kliegl (2017, Figure 2)"
      ],
      "metadata": {}
    },
    {
      "outputs": [],
      "cell_type": "code",
      "source": [
        "m3form = @formula (-1000/rt) ~ 1 + f*p*q*lq*lt +\n        (1+q | Subj) + (0+lt | Subj) + (1 | Item) + (0 + p | Item) ;\nmrk17_LMM = @btime fit(LinearMixedModel, m3form, dat, contrasts=contrasts);\n\nVarCorr(mrk17_LMM)"
      ],
      "metadata": {},
      "execution_count": null
    },
    {
      "cell_type": "markdown",
      "source": [
        "Is the correlation paramter significant?"
      ],
      "metadata": {}
    },
    {
      "outputs": [],
      "cell_type": "code",
      "source": [
        "# remove single CP for nested LMMs\nm4form = @formula (-1000/rt) ~ 1 + f*p*q*lq*lt +\n        (1 | Subj) + (0+q | Subj) + (0+lt | Subj) + (1 | Item) + (0+p | Item);\nrdcdLMM = @btime fit(LinearMixedModel, m4form, dat, contrasts=contrasts);\n\n#compare nested model sequence\n# lrtest(rdcdLMM, mrk17_LMM)  # earlier alternative\nMixedModels.likelihoodratiotest(rdcdLMM, mrk17_LMM)"
      ],
      "metadata": {},
      "execution_count": null
    },
    {
      "cell_type": "markdown",
      "source": [
        "Yes, it is! Replicates a previous result. \n\nNote that `zcpLMM` and `mrk17LMM` are not nested; we cannot compare them with a LRT.\n\n## rePCA\n\nOptions for information about rePCAs\n \n```\nBase.show(pca::PCA;\n          ndigitsmat=2, ndigitsvec=2, ndigitscum=4,\n          covcor=true, loadings=true, variances=false, stddevs=false)\n```"
      ],
      "metadata": {}
    },
    {
      "outputs": [],
      "cell_type": "code",
      "source": [
        "mrk17_LMM.rePCA"
      ],
      "metadata": {},
      "execution_count": null
    },
    {
      "outputs": [],
      "cell_type": "code",
      "source": [
        "mrk17_pca=MixedModels.PCA(mrk17_LMM, corr=true);\nshow(stdout, mrk17_pca.Subj, stddevs=true)\nshow(stdout, mrk17_pca.Item, stddevs=true)\n\nVarCorr(mrk17_LMM)"
      ],
      "metadata": {},
      "execution_count": null
    },
    {
      "cell_type": "markdown",
      "source": [
        "## Factors\n\nThis is an excursion with cautionary note. \nThe replication LMM cannot be specified with factors in the RE-structure."
      ],
      "metadata": {}
    },
    {
      "outputs": [],
      "cell_type": "code",
      "source": [
        "m3form_b = @formula (-1000/rt) ~ 1 + F*P*Q*lQ*lT +\n        (1+Q | Subj) + zerocorr(0+lT | Subj) + zerocorr(1 + P | Item) ;\nmrk17_LMM_b = @btime fit(LinearMixedModel, m3form_b, dat, contrasts=contrasts);\n\nVarCorr(mrk17_LMM_b)"
      ],
      "metadata": {},
      "execution_count": null
    },
    {
      "outputs": [],
      "cell_type": "code",
      "source": [
        "VarCorr(mrk17_LMM)"
      ],
      "metadata": {},
      "execution_count": null
    },
    {
      "cell_type": "markdown",
      "source": [
        "This will be fixed (see https://github.com/JuliaStats/MixedModels.jl/issues/268)\n\n# Model comparisons"
      ],
      "metadata": {}
    },
    {
      "outputs": [],
      "cell_type": "code",
      "source": [
        "const mods = [cmplxLMM, zcpLMM, mrk17_LMM, rdcdLMM];\ngof_summary = DataFrame(dof=dof.(mods), deviance=deviance.(mods),\n              AIC = aic.(mods), AICc = aicc.(mods), BIC = bic.(mods))"
      ],
      "metadata": {},
      "execution_count": null
    },
    {
      "cell_type": "markdown",
      "source": [
        "Here `dof` or degrees of freedom is the total number of parameters estimated \nin the model and `deviance` is simply negative twice the log-likelihood at \nconvergence, without a correction for a saturated model.  The There information \ncriteria are on a scale of \"smaller is better\" and all would select `mrk17_LMM` as \"best\".\n\nThe correlation parameter was replicated (i.e., -.42 in MRK17)\n\n# Illustration of crossing and nesting of factors\n\nThere is an implementation of Wilkinson & Rogers (1973) formula syntax, allowing the specification of factors not only as crossed, but also as nested in the levels of another factor or combination of factors. We illustrate this functionality with a subset of the MRK17 data. (We use oviLMM as RE structure and rt as dependent variable.)\n\n## Crossing factors\n\nThe default analysis focuses on crossed factors yielding main effects and interactions."
      ],
      "metadata": {}
    },
    {
      "outputs": [],
      "cell_type": "code",
      "source": [
        "m5form = @formula rt ~ 1 + F*P + (1 | Subj) + (1 | Item);\ncrossedLMM = @btime fit(LinearMixedModel, m5form, dat, contrasts=contrasts)"
      ],
      "metadata": {},
      "execution_count": null
    },
    {
      "cell_type": "markdown",
      "source": [
        "Main effects of frequency (F) and priming (P) and their interaction are significant."
      ],
      "metadata": {}
    },
    {
      "outputs": [],
      "cell_type": "code",
      "source": [
        "cellmeans = by(dat, [:F, :P], \n            meanRT = :rt => mean, sdRT = :rt => std, n = :rt => length)"
      ],
      "metadata": {},
      "execution_count": null
    },
    {
      "cell_type": "markdown",
      "source": [
        "# Nesting factors\n\nThe interaction tests whether lines visualizing the interaction are parallel, \nbut depending on the theoretical context one might be interested whether the\npriming effect is significant high frequency targets and for low frequency targets. \nIn other words, the focus is on whether the priming effect is significant for \nthe levels of the frequency factor."
      ],
      "metadata": {}
    },
    {
      "outputs": [],
      "cell_type": "code",
      "source": [
        "m6form = @formula rt ~ 1 + F/P + (1 | Subj) + (1 | Item);\nnestedLMM = @btime fit(LinearMixedModel, m6form, dat, contrasts=contrasts)"
      ],
      "metadata": {},
      "execution_count": null
    },
    {
      "cell_type": "markdown",
      "source": [
        "The results show that the priming effect is not significant for high-frequency\ntargets. The estimates are the differences of the cell means from the grand \nmean (i.e., 2 x estimate = effect)."
      ],
      "metadata": {}
    }
  ],
  "nbformat_minor": 2,
  "metadata": {
    "language_info": {
      "file_extension": ".jl",
      "mimetype": "application/julia",
      "name": "julia",
      "version": "1.3.1"
    },
    "kernelspec": {
      "name": "julia-1.3",
      "display_name": "Julia 1.3.1",
      "language": "julia"
    }
  },
  "nbformat": 4
}
