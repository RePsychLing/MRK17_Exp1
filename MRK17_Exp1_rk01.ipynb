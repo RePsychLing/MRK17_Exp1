{
 "cells": [
  {
   "cell_type": "markdown",
   "metadata": {},
   "source": [
    "# RePsychLing Masson, Rabe, &amp; Kliegl, 2017) with Julia\n",
    "### Reinhold Kliegl\n",
    "### 2020-02-13\n",
    "# Setup\n",
    "\n",
    "Packages we (might) use."
   ]
  },
  {
   "cell_type": "code",
   "execution_count": 1,
   "metadata": {},
   "outputs": [
    {
     "name": "stderr",
     "output_type": "stream",
     "text": [
      "┌ Info: Precompiling MixedModels [ff71e718-51f3-5ec2-a782-8ffcbfa3c316]\n",
      "└ @ Base loading.jl:1273\n"
     ]
    }
   ],
   "source": [
    "#cd(joinpath(homedir(),\"Google Drive/ZiF_CG_WS2/MRK17_Exp1/\"))\n",
    "#cd(\"/Users/reinholdkliegl/Google Drive/ZiF_CG_WS2/MRK17_Exp1/\")\n",
    "\n",
    "using CSV, DataFrames, DataFramesMeta, MixedModels, RCall \n",
    "using StatsBase, StatsModels, BenchmarkTools, Weave\n",
    "\n",
    "# needed for LRT\n",
    "using Printf: @sprintf\n",
    "using Distributions: Chisq, ccdf\n",
    "include(\"lrtest.jl\")"
   ]
  },
  {
   "cell_type": "code",
   "execution_count": 3,
   "metadata": {},
   "outputs": [
    {
     "data": {
      "text/html": [
       "<table class=\"data-frame\"><thead><tr><th></th><th>F</th><th>P</th><th>Q</th><th>lQ</th><th>lT</th><th>meanRT</th><th>sdRT</th></tr><tr><th></th><th>Categorical…</th><th>Categorical…</th><th>Categorical…</th><th>Categorical…</th><th>Categorical…</th><th>Float64</th><th>Float64</th></tr></thead><tbody><p>32 rows × 9 columns (omitted printing of 2 columns)</p><tr><th>1</th><td>HF</td><td>rel</td><td>clr</td><td>clr</td><td>WD</td><td>613.094</td><td>192.13</td></tr><tr><th>2</th><td>HF</td><td>rel</td><td>clr</td><td>clr</td><td>NW</td><td>635.319</td><td>205.19</td></tr><tr><th>3</th><td>HF</td><td>rel</td><td>clr</td><td>deg</td><td>WD</td><td>620.569</td><td>173.764</td></tr><tr><th>4</th><td>HF</td><td>rel</td><td>clr</td><td>deg</td><td>NW</td><td>615.647</td><td>176.826</td></tr><tr><th>5</th><td>HF</td><td>rel</td><td>deg</td><td>clr</td><td>WD</td><td>667.685</td><td>231.145</td></tr><tr><th>6</th><td>HF</td><td>rel</td><td>deg</td><td>clr</td><td>NW</td><td>645.493</td><td>179.962</td></tr><tr><th>7</th><td>HF</td><td>rel</td><td>deg</td><td>deg</td><td>WD</td><td>637.793</td><td>177.496</td></tr><tr><th>8</th><td>HF</td><td>rel</td><td>deg</td><td>deg</td><td>NW</td><td>659.266</td><td>192.637</td></tr><tr><th>9</th><td>HF</td><td>unr</td><td>clr</td><td>clr</td><td>WD</td><td>620.838</td><td>192.689</td></tr><tr><th>10</th><td>HF</td><td>unr</td><td>clr</td><td>clr</td><td>NW</td><td>619.626</td><td>176.55</td></tr><tr><th>11</th><td>HF</td><td>unr</td><td>clr</td><td>deg</td><td>WD</td><td>633.046</td><td>172.604</td></tr><tr><th>12</th><td>HF</td><td>unr</td><td>clr</td><td>deg</td><td>NW</td><td>644.6</td><td>203.261</td></tr><tr><th>13</th><td>HF</td><td>unr</td><td>deg</td><td>clr</td><td>WD</td><td>671.728</td><td>203.986</td></tr><tr><th>14</th><td>HF</td><td>unr</td><td>deg</td><td>clr</td><td>NW</td><td>652.59</td><td>159.715</td></tr><tr><th>15</th><td>HF</td><td>unr</td><td>deg</td><td>deg</td><td>WD</td><td>642.201</td><td>173.235</td></tr><tr><th>16</th><td>HF</td><td>unr</td><td>deg</td><td>deg</td><td>NW</td><td>655.712</td><td>179.367</td></tr><tr><th>17</th><td>LF</td><td>rel</td><td>clr</td><td>clr</td><td>WD</td><td>624.478</td><td>194.015</td></tr><tr><th>18</th><td>LF</td><td>rel</td><td>clr</td><td>clr</td><td>NW</td><td>624.172</td><td>174.979</td></tr><tr><th>19</th><td>LF</td><td>rel</td><td>clr</td><td>deg</td><td>WD</td><td>623.244</td><td>178.251</td></tr><tr><th>20</th><td>LF</td><td>rel</td><td>clr</td><td>deg</td><td>NW</td><td>635.076</td><td>192.738</td></tr><tr><th>21</th><td>LF</td><td>rel</td><td>deg</td><td>clr</td><td>WD</td><td>678.119</td><td>217.209</td></tr><tr><th>22</th><td>LF</td><td>rel</td><td>deg</td><td>clr</td><td>NW</td><td>650.16</td><td>167.51</td></tr><tr><th>23</th><td>LF</td><td>rel</td><td>deg</td><td>deg</td><td>WD</td><td>653.43</td><td>180.58</td></tr><tr><th>24</th><td>LF</td><td>rel</td><td>deg</td><td>deg</td><td>NW</td><td>667.872</td><td>175.869</td></tr><tr><th>25</th><td>LF</td><td>unr</td><td>clr</td><td>clr</td><td>WD</td><td>641.669</td><td>183.413</td></tr><tr><th>26</th><td>LF</td><td>unr</td><td>clr</td><td>clr</td><td>NW</td><td>648.057</td><td>209.625</td></tr><tr><th>27</th><td>LF</td><td>unr</td><td>clr</td><td>deg</td><td>WD</td><td>653.03</td><td>196.71</td></tr><tr><th>28</th><td>LF</td><td>unr</td><td>clr</td><td>deg</td><td>NW</td><td>658.225</td><td>213.144</td></tr><tr><th>29</th><td>LF</td><td>unr</td><td>deg</td><td>clr</td><td>WD</td><td>676.711</td><td>167.794</td></tr><tr><th>30</th><td>LF</td><td>unr</td><td>deg</td><td>clr</td><td>NW</td><td>685.265</td><td>186.73</td></tr><tr><th>&vellip;</th><td>&vellip;</td><td>&vellip;</td><td>&vellip;</td><td>&vellip;</td><td>&vellip;</td><td>&vellip;</td><td>&vellip;</td></tr></tbody></table>"
      ],
      "text/latex": [
       "\\begin{tabular}{r|cccccccc}\n",
       "\t& F & P & Q & lQ & lT & meanRT & sdRT & \\\\\n",
       "\t\\hline\n",
       "\t& Categorical… & Categorical… & Categorical… & Categorical… & Categorical… & Float64 & Float64 & \\\\\n",
       "\t\\hline\n",
       "\t1 & HF & rel & clr & clr & WD & 613.094 & 192.13 & $\\dots$ \\\\\n",
       "\t2 & HF & rel & clr & clr & NW & 635.319 & 205.19 & $\\dots$ \\\\\n",
       "\t3 & HF & rel & clr & deg & WD & 620.569 & 173.764 & $\\dots$ \\\\\n",
       "\t4 & HF & rel & clr & deg & NW & 615.647 & 176.826 & $\\dots$ \\\\\n",
       "\t5 & HF & rel & deg & clr & WD & 667.685 & 231.145 & $\\dots$ \\\\\n",
       "\t6 & HF & rel & deg & clr & NW & 645.493 & 179.962 & $\\dots$ \\\\\n",
       "\t7 & HF & rel & deg & deg & WD & 637.793 & 177.496 & $\\dots$ \\\\\n",
       "\t8 & HF & rel & deg & deg & NW & 659.266 & 192.637 & $\\dots$ \\\\\n",
       "\t9 & HF & unr & clr & clr & WD & 620.838 & 192.689 & $\\dots$ \\\\\n",
       "\t10 & HF & unr & clr & clr & NW & 619.626 & 176.55 & $\\dots$ \\\\\n",
       "\t11 & HF & unr & clr & deg & WD & 633.046 & 172.604 & $\\dots$ \\\\\n",
       "\t12 & HF & unr & clr & deg & NW & 644.6 & 203.261 & $\\dots$ \\\\\n",
       "\t13 & HF & unr & deg & clr & WD & 671.728 & 203.986 & $\\dots$ \\\\\n",
       "\t14 & HF & unr & deg & clr & NW & 652.59 & 159.715 & $\\dots$ \\\\\n",
       "\t15 & HF & unr & deg & deg & WD & 642.201 & 173.235 & $\\dots$ \\\\\n",
       "\t16 & HF & unr & deg & deg & NW & 655.712 & 179.367 & $\\dots$ \\\\\n",
       "\t17 & LF & rel & clr & clr & WD & 624.478 & 194.015 & $\\dots$ \\\\\n",
       "\t18 & LF & rel & clr & clr & NW & 624.172 & 174.979 & $\\dots$ \\\\\n",
       "\t19 & LF & rel & clr & deg & WD & 623.244 & 178.251 & $\\dots$ \\\\\n",
       "\t20 & LF & rel & clr & deg & NW & 635.076 & 192.738 & $\\dots$ \\\\\n",
       "\t21 & LF & rel & deg & clr & WD & 678.119 & 217.209 & $\\dots$ \\\\\n",
       "\t22 & LF & rel & deg & clr & NW & 650.16 & 167.51 & $\\dots$ \\\\\n",
       "\t23 & LF & rel & deg & deg & WD & 653.43 & 180.58 & $\\dots$ \\\\\n",
       "\t24 & LF & rel & deg & deg & NW & 667.872 & 175.869 & $\\dots$ \\\\\n",
       "\t25 & LF & unr & clr & clr & WD & 641.669 & 183.413 & $\\dots$ \\\\\n",
       "\t26 & LF & unr & clr & clr & NW & 648.057 & 209.625 & $\\dots$ \\\\\n",
       "\t27 & LF & unr & clr & deg & WD & 653.03 & 196.71 & $\\dots$ \\\\\n",
       "\t28 & LF & unr & clr & deg & NW & 658.225 & 213.144 & $\\dots$ \\\\\n",
       "\t29 & LF & unr & deg & clr & WD & 676.711 & 167.794 & $\\dots$ \\\\\n",
       "\t30 & LF & unr & deg & clr & NW & 685.265 & 186.73 & $\\dots$ \\\\\n",
       "\t$\\dots$ & $\\dots$ & $\\dots$ & $\\dots$ & $\\dots$ & $\\dots$ & $\\dots$ & $\\dots$ &  \\\\\n",
       "\\end{tabular}\n"
      ],
      "text/plain": [
       "32×9 DataFrame. Omitted printing of 5 columns\n",
       "│ Row │ F            │ P            │ Q            │ lQ           │\n",
       "│     │ \u001b[90mCategorical…\u001b[39m │ \u001b[90mCategorical…\u001b[39m │ \u001b[90mCategorical…\u001b[39m │ \u001b[90mCategorical…\u001b[39m │\n",
       "├─────┼──────────────┼──────────────┼──────────────┼──────────────┤\n",
       "│ 1   │ HF           │ rel          │ clr          │ clr          │\n",
       "│ 2   │ HF           │ rel          │ clr          │ clr          │\n",
       "│ 3   │ HF           │ rel          │ clr          │ deg          │\n",
       "│ 4   │ HF           │ rel          │ clr          │ deg          │\n",
       "│ 5   │ HF           │ rel          │ deg          │ clr          │\n",
       "│ 6   │ HF           │ rel          │ deg          │ clr          │\n",
       "│ 7   │ HF           │ rel          │ deg          │ deg          │\n",
       "│ 8   │ HF           │ rel          │ deg          │ deg          │\n",
       "│ 9   │ HF           │ unr          │ clr          │ clr          │\n",
       "│ 10  │ HF           │ unr          │ clr          │ clr          │\n",
       "⋮\n",
       "│ 22  │ LF           │ rel          │ deg          │ clr          │\n",
       "│ 23  │ LF           │ rel          │ deg          │ deg          │\n",
       "│ 24  │ LF           │ rel          │ deg          │ deg          │\n",
       "│ 25  │ LF           │ unr          │ clr          │ clr          │\n",
       "│ 26  │ LF           │ unr          │ clr          │ clr          │\n",
       "│ 27  │ LF           │ unr          │ clr          │ deg          │\n",
       "│ 28  │ LF           │ unr          │ clr          │ deg          │\n",
       "│ 29  │ LF           │ unr          │ deg          │ clr          │\n",
       "│ 30  │ LF           │ unr          │ deg          │ clr          │\n",
       "│ 31  │ LF           │ unr          │ deg          │ deg          │\n",
       "│ 32  │ LF           │ unr          │ deg          │ deg          │"
      ]
     },
     "execution_count": 3,
     "metadata": {},
     "output_type": "execute_result"
    }
   ],
   "source": [
    "R\"dat_r = readRDS('MRK17_Exp1.rds')\";\n",
    "\n",
    "dat = rcopy(R\"dat_r\")\n",
    "\n",
    "dat = @linq dat |>\n",
    "       transform(F = levels!(:F, [\"HF\", \"LF\"]),\n",
    "                 P = levels!(:P, [\"rel\", \"unr\"]),\n",
    "                 Q = levels!(:Q, [\"clr\", \"deg\"]),\n",
    "                lQ = levels!(:lQ, [\"clr\", \"deg\"]),\n",
    "                lT = levels!(:lT, [\"WD\", \"NW\"]))\n",
    "\n",
    "cellmeans = by(dat, [:F, :P, :Q, :lQ, :lT], \n",
    "            meanRT = :rt => mean, sdRT = :rt => std, n = :rt => length,\n",
    "            semean = :rt => x -> std(x)/sqrt(length(x)))"
   ]
  },
  {
   "cell_type": "markdown",
   "metadata": {},
   "source": [
    "# Reading data\n",
    "\n",
    "We read the data preprocessed with R and saved as RDS file (see `DataPrep.Rmd` for details)."
   ]
  },
  {
   "cell_type": "markdown",
   "metadata": {},
   "source": [
    "# Complex LMM\n",
    "\n",
    "This is *not* the maximal factorial LMM because we do not include interaction \n",
    "terms and associated correlation parameters in the RE structure.\n",
    "\n",
    "## Model fit"
   ]
  },
  {
   "cell_type": "code",
   "execution_count": 4,
   "metadata": {},
   "outputs": [
    {
     "name": "stdout",
     "output_type": "stream",
     "text": [
      "  12.373 s (422033 allocations: 144.88 MiB)\n"
     ]
    }
   ],
   "source": [
    "const HC = HelmertCoding();\n",
    "const contrasts = Dict(:F => HC, :P => HC, :Q => HC, :lQ => HC, :lT => HC);\n",
    "\n",
    "m1form = @formula (-1000/rt) ~ 1+F*P*Q*lQ*lT +\n",
    "                              (1+F+P+Q+lQ+lT | Subj) +\n",
    "                              (1+P+Q+lQ+lT | Item);\n",
    "cmplxLMM = @btime fit(MixedModel, m1form, dat, contrasts=contrasts);"
   ]
  },
  {
   "cell_type": "markdown",
   "metadata": {},
   "source": [
    "## VCs and CPs\n",
    "\n",
    "We don't look at fixed effects before model selection."
   ]
  },
  {
   "cell_type": "code",
   "execution_count": 5,
   "metadata": {},
   "outputs": [
    {
     "data": {
      "text/plain": [
       "(Item = [0.877285952024819, 0.9515421973498676, 0.9915019239085304, 1.0, 1.0], Subj = [0.9421686601104765, 0.9774140947628489, 0.9961956271378415, 0.9984374010364477, 1.0, 1.0])"
      ]
     },
     "execution_count": 5,
     "metadata": {},
     "output_type": "execute_result"
    }
   ],
   "source": [
    "cmplxLMM.λ[1]\n",
    "cmplxLMM.λ[2]\n",
    "cmplxLMM.rePCA"
   ]
  },
  {
   "cell_type": "markdown",
   "metadata": {},
   "source": [
    "Variance-covariance matrix of random-effect structure suggests overparameterization\n",
    "for both subject-related and item-related components.\n",
    "\n",
    "\n",
    "# Zero-correlation parameter LMM (factors)\n",
    "\n",
    "## Model fit\n",
    "\n",
    "We take out correlation parameters."
   ]
  },
  {
   "cell_type": "code",
   "execution_count": 6,
   "metadata": {},
   "outputs": [
    {
     "name": "stdout",
     "output_type": "stream",
     "text": [
      "  2.928 s (245260 allocations: 137.40 MiB)\n"
     ]
    }
   ],
   "source": [
    "m2form = @formula (-1000/rt) ~ 1 + F*P*Q*lQ*lT +\n",
    "                               zerocorr(1+F+P+Q+lQ+lT | Subj) +\n",
    "                               zerocorr(1+P+Q+lQ+lT | Item);\n",
    "\n",
    "zcpLMM = @btime fit(LinearMixedModel, m2form, dat, contrasts=contrasts);"
   ]
  },
  {
   "cell_type": "markdown",
   "metadata": {},
   "source": [
    "## VCs and CPs"
   ]
  },
  {
   "cell_type": "code",
   "execution_count": 7,
   "metadata": {},
   "outputs": [
    {
     "data": {
      "text/plain": [
       "(Item = [0.9008661656020007, 0.9424502421207154, 0.9751854754242245, 0.9955462479417729, 1.0], Subj = [0.9367061661526143, 0.9691670136862988, 0.9928321057825136, 0.9964771278392464, 0.999523592146044, 1.0])"
      ]
     },
     "execution_count": 7,
     "metadata": {},
     "output_type": "execute_result"
    }
   ],
   "source": [
    "zcpLMM.λ[1]\n",
    "zcpLMM.λ[2]\n",
    "zcpLMM.rePCA"
   ]
  },
  {
   "cell_type": "markdown",
   "metadata": {},
   "source": [
    "Looks ok, but the last PCs are very tiny. Might be a good idea to prune the LMM. \n",
    "\n",
    "# Zero-correlation parameter LMM (indicators)\n",
    "\n",
    "An alternative solution is to extract the indicators of contrasts from the design matrix.\n",
    "Sometimes RE structures are more conviently specified with indicator variables (i.e., \n",
    "@ level of contrasts) than the factors."
   ]
  },
  {
   "cell_type": "code",
   "execution_count": 10,
   "metadata": {},
   "outputs": [
    {
     "data": {
      "text/html": [
       "<table class=\"data-frame\"><thead><tr><th></th><th>f</th><th>p</th><th>q</th><th>lq</th><th>lt</th></tr><tr><th></th><th>Int64</th><th>Int64</th><th>Int64</th><th>Int64</th><th>Int64</th></tr></thead><tbody><p>10 rows × 5 columns</p><tr><th>1</th><td>1</td><td>1</td><td>1</td><td>1</td><td>1</td></tr><tr><th>2</th><td>-1</td><td>1</td><td>-1</td><td>1</td><td>-1</td></tr><tr><th>3</th><td>-1</td><td>-1</td><td>-1</td><td>1</td><td>1</td></tr><tr><th>4</th><td>-1</td><td>-1</td><td>1</td><td>1</td><td>1</td></tr><tr><th>5</th><td>-1</td><td>1</td><td>1</td><td>1</td><td>-1</td></tr><tr><th>6</th><td>-1</td><td>-1</td><td>-1</td><td>1</td><td>-1</td></tr><tr><th>7</th><td>-1</td><td>-1</td><td>1</td><td>1</td><td>1</td></tr><tr><th>8</th><td>1</td><td>1</td><td>1</td><td>-1</td><td>1</td></tr><tr><th>9</th><td>1</td><td>1</td><td>-1</td><td>1</td><td>-1</td></tr><tr><th>10</th><td>-1</td><td>-1</td><td>-1</td><td>1</td><td>1</td></tr></tbody></table>"
      ],
      "text/latex": [
       "\\begin{tabular}{r|ccccc}\n",
       "\t& f & p & q & lq & lt\\\\\n",
       "\t\\hline\n",
       "\t& Int64 & Int64 & Int64 & Int64 & Int64\\\\\n",
       "\t\\hline\n",
       "\t1 & 1 & 1 & 1 & 1 & 1 \\\\\n",
       "\t2 & -1 & 1 & -1 & 1 & -1 \\\\\n",
       "\t3 & -1 & -1 & -1 & 1 & 1 \\\\\n",
       "\t4 & -1 & -1 & 1 & 1 & 1 \\\\\n",
       "\t5 & -1 & 1 & 1 & 1 & -1 \\\\\n",
       "\t6 & -1 & -1 & -1 & 1 & -1 \\\\\n",
       "\t7 & -1 & -1 & 1 & 1 & 1 \\\\\n",
       "\t8 & 1 & 1 & 1 & -1 & 1 \\\\\n",
       "\t9 & 1 & 1 & -1 & 1 & -1 \\\\\n",
       "\t10 & -1 & -1 & -1 & 1 & 1 \\\\\n",
       "\\end{tabular}\n"
      ],
      "text/plain": [
       "10×5 DataFrame\n",
       "│ Row │ f     │ p     │ q     │ lq    │ lt    │\n",
       "│     │ \u001b[90mInt64\u001b[39m │ \u001b[90mInt64\u001b[39m │ \u001b[90mInt64\u001b[39m │ \u001b[90mInt64\u001b[39m │ \u001b[90mInt64\u001b[39m │\n",
       "├─────┼───────┼───────┼───────┼───────┼───────┤\n",
       "│ 1   │ 1     │ 1     │ 1     │ 1     │ 1     │\n",
       "│ 2   │ -1    │ 1     │ -1    │ 1     │ -1    │\n",
       "│ 3   │ -1    │ -1    │ -1    │ 1     │ 1     │\n",
       "│ 4   │ -1    │ -1    │ 1     │ 1     │ 1     │\n",
       "│ 5   │ -1    │ 1     │ 1     │ 1     │ -1    │\n",
       "│ 6   │ -1    │ -1    │ -1    │ 1     │ -1    │\n",
       "│ 7   │ -1    │ -1    │ 1     │ 1     │ 1     │\n",
       "│ 8   │ 1     │ 1     │ 1     │ -1    │ 1     │\n",
       "│ 9   │ 1     │ 1     │ -1    │ 1     │ -1    │\n",
       "│ 10  │ -1    │ -1    │ -1    │ 1     │ 1     │"
      ]
     },
     "execution_count": 10,
     "metadata": {},
     "output_type": "execute_result"
    }
   ],
   "source": [
    "mm = Int.(zcpLMM.X)\n",
    "\n",
    "dat = @linq dat |>\n",
    "       transform(f = mm[:, 2],\n",
    "                 p = mm[:, 3],\n",
    "                 q = mm[:, 4],\n",
    "                lq = mm[:, 5],\n",
    "                lt = mm[:, 6]);\n",
    "dat[1:10, 10:14]"
   ]
  },
  {
   "cell_type": "markdown",
   "metadata": {},
   "source": [
    "We take out correlation parameters."
   ]
  },
  {
   "cell_type": "code",
   "execution_count": 11,
   "metadata": {},
   "outputs": [
    {
     "name": "stdout",
     "output_type": "stream",
     "text": [
      "  2.777 s (207077 allocations: 134.36 MiB)\n"
     ]
    }
   ],
   "source": [
    "m2form_b = @formula (-1000/rt) ~ 1 + f*p*q*lq*lt +\n",
    " (1 | Subj) + (0+f | Subj) + (0+p | Subj) + (0+q | Subj) + (0+lq | Subj) + (0+lt | Subj) +\n",
    " (1 | Item) +                (0+p | Item) + (0+q | Item) + (0+lq | Item) + (0+lt | Item);\n",
    "\n",
    "zcpLMM_b = @btime fit(LinearMixedModel, m2form_b, dat, contrasts=contrasts)"
   ]
  },
  {
   "cell_type": "code",
   "execution_count": 13,
   "metadata": {},
   "outputs": [
    {
     "name": "stderr",
     "output_type": "stream",
     "text": [
      "WARNING: redefining constant mods\n"
     ]
    },
    {
     "data": {
      "text/html": [
       "<table class=\"data-frame\"><thead><tr><th></th><th>dof</th><th>deviance</th><th>AIC</th><th>AICc</th><th>BIC</th></tr><tr><th></th><th>Int64</th><th>Float64</th><th>Float64</th><th>Float64</th><th>Float64</th></tr></thead><tbody><p>3 rows × 5 columns</p><tr><th>1</th><td>69</td><td>7147.55</td><td>7285.55</td><td>7286.14</td><td>7817.24</td></tr><tr><th>2</th><td>44</td><td>7188.49</td><td>7276.49</td><td>7276.73</td><td>7615.54</td></tr><tr><th>3</th><td>44</td><td>7188.49</td><td>7276.49</td><td>7276.73</td><td>7615.54</td></tr></tbody></table>"
      ],
      "text/latex": [
       "\\begin{tabular}{r|ccccc}\n",
       "\t& dof & deviance & AIC & AICc & BIC\\\\\n",
       "\t\\hline\n",
       "\t& Int64 & Float64 & Float64 & Float64 & Float64\\\\\n",
       "\t\\hline\n",
       "\t1 & 69 & 7147.55 & 7285.55 & 7286.14 & 7817.24 \\\\\n",
       "\t2 & 44 & 7188.49 & 7276.49 & 7276.73 & 7615.54 \\\\\n",
       "\t3 & 44 & 7188.49 & 7276.49 & 7276.73 & 7615.54 \\\\\n",
       "\\end{tabular}\n"
      ],
      "text/plain": [
       "3×5 DataFrame\n",
       "│ Row │ dof   │ deviance │ AIC     │ AICc    │ BIC     │\n",
       "│     │ \u001b[90mInt64\u001b[39m │ \u001b[90mFloat64\u001b[39m  │ \u001b[90mFloat64\u001b[39m │ \u001b[90mFloat64\u001b[39m │ \u001b[90mFloat64\u001b[39m │\n",
       "├─────┼───────┼──────────┼─────────┼─────────┼─────────┤\n",
       "│ 1   │ 69    │ 7147.55  │ 7285.55 │ 7286.14 │ 7817.24 │\n",
       "│ 2   │ 44    │ 7188.49  │ 7276.49 │ 7276.73 │ 7615.54 │\n",
       "│ 3   │ 44    │ 7188.49  │ 7276.49 │ 7276.73 │ 7615.54 │"
      ]
     },
     "execution_count": 13,
     "metadata": {},
     "output_type": "execute_result"
    }
   ],
   "source": [
    "const mods = [cmplxLMM, zcpLMM, zcpLMM_b];\n",
    "gof_summary = DataFrame(dof=dof.(mods), deviance=deviance.(mods),\n",
    "              AIC = aic.(mods), AICc = aicc.(mods), BIC = bic.(mods))"
   ]
  },
  {
   "cell_type": "code",
   "execution_count": 14,
   "metadata": {},
   "outputs": [
    {
     "name": "stderr",
     "output_type": "stream",
     "text": [
      "┌ Warning: Could not check whether models are nested as model type LinearMixedModel does not implement isnested: results may not be meaningful\n",
      "└ @ Main /Users/reinholdkliegl/Google Drive/ZiF_CG_WS2/MRK17_Exp1/lrtest.jl:91\n"
     ]
    },
    {
     "data": {
      "text/plain": [
       "Likelihood-ratio test: 2 models fitted on 16409 observations\n",
       "───────────────────────────────────────────────\n",
       "     DOF  ΔDOF   Deviance  ΔDeviance  p(>Chisq)\n",
       "───────────────────────────────────────────────\n",
       "[1]   69        7147.5503                      \n",
       "[2]   44   -25  7188.4894    40.9391     0.0233\n",
       "───────────────────────────────────────────────"
      ]
     },
     "execution_count": 14,
     "metadata": {},
     "output_type": "execute_result"
    }
   ],
   "source": [
    "lrtest(cmplxLMM, zcpLMM)"
   ]
  },
  {
   "cell_type": "markdown",
   "metadata": {},
   "source": [
    "Results for `zcpLMM` and `zcpLMM_b` are identical. Goodness of fit is better for complex LMM -- \n",
    "marginally because 2 * ΔDOF < ΔDeviance). \n",
    "\n",
    "# A replication of MRK17 LMM\n",
    "\n",
    "## Indicators\n",
    "\n",
    "Replication of final LMM in Masson and Kliegl (2013, Table 1) as well as\n",
    "reproduction of final lme4-based LMM in Masson, Rabe, and Kliegl (2017, Figure 2)"
   ]
  },
  {
   "cell_type": "code",
   "execution_count": 15,
   "metadata": {},
   "outputs": [
    {
     "name": "stdout",
     "output_type": "stream",
     "text": [
      "  440.641 ms (240008 allocations: 103.89 MiB)\n"
     ]
    },
    {
     "data": {
      "text/plain": [
       "Variance components:\n",
       "            Column      Variance      Std.Dev.    Corr.\n",
       "Item     (Intercept)  0.003205660823 0.056618555\n",
       "         p            0.000066922633 0.008180625   .  \n",
       "Subj     (Intercept)  0.030617756083 0.174979302\n",
       "         q            0.000762479409 0.027613030 -0.42\n",
       "         lt           0.001062062275 0.032589297   .     .  \n",
       "Residual              0.086408016139 0.293952405\n"
      ]
     },
     "execution_count": 15,
     "metadata": {},
     "output_type": "execute_result"
    }
   ],
   "source": [
    "m3form = @formula (-1000/rt) ~ 1 + f*p*q*lq*lt +\n",
    "        (1+q | Subj) + (0+lt | Subj) + (1 | Item) + (0 + p | Item) ;\n",
    "mrk17_LMM = @btime fit(LinearMixedModel, m3form, dat, contrasts=contrasts);\n",
    "\n",
    "VarCorr(mrk17_LMM)"
   ]
  },
  {
   "cell_type": "markdown",
   "metadata": {},
   "source": [
    "Is the correlation paramter significant?"
   ]
  },
  {
   "cell_type": "code",
   "execution_count": 16,
   "metadata": {},
   "outputs": [
    {
     "name": "stdout",
     "output_type": "stream",
     "text": [
      "  382.495 ms (169896 allocations: 102.11 MiB)\n"
     ]
    },
    {
     "name": "stderr",
     "output_type": "stream",
     "text": [
      "┌ Warning: Could not check whether models are nested as model type LinearMixedModel does not implement isnested: results may not be meaningful\n",
      "└ @ Main /Users/reinholdkliegl/Google Drive/ZiF_CG_WS2/MRK17_Exp1/lrtest.jl:91\n"
     ]
    },
    {
     "data": {
      "text/plain": [
       "Likelihood-ratio test: 2 models fitted on 16409 observations\n",
       "───────────────────────────────────────────────\n",
       "     DOF  ΔDOF   Deviance  ΔDeviance  p(>Chisq)\n",
       "───────────────────────────────────────────────\n",
       "[1]   38        7195.8744                      \n",
       "[2]   39     1  7186.8171    -9.0573     0.0026\n",
       "───────────────────────────────────────────────"
      ]
     },
     "execution_count": 16,
     "metadata": {},
     "output_type": "execute_result"
    }
   ],
   "source": [
    "# remove single CP for nested LMMs\n",
    "m4form = @formula (-1000/rt) ~ 1 + f*p*q*lq*lt +\n",
    "        (1 | Subj) + (0+q | Subj) + (0+lt | Subj) + (1 | Item) + (0+p | Item);\n",
    "rdcdLMM = @btime fit(LinearMixedModel, m4form, dat, contrasts=contrasts);\n",
    "\n",
    "#compare nested model sequence\n",
    "lrtest(rdcdLMM, mrk17_LMM)"
   ]
  },
  {
   "cell_type": "markdown",
   "metadata": {},
   "source": [
    "Yes, it is! Replicates a previous result. \n",
    "\n",
    "Note that `zcpLMM` and `mrk17LMM` are not nested; we cannot compare them with a LRT.\n",
    "\n",
    "## Factors\n",
    "\n",
    "This is an excursion with cautionary note. \n",
    "So far the replication LMM cannot be specified with factors in the RE-structure."
   ]
  },
  {
   "cell_type": "code",
   "execution_count": 18,
   "metadata": {},
   "outputs": [
    {
     "name": "stdout",
     "output_type": "stream",
     "text": [
      "  640.107 ms (356525 allocations: 121.28 MiB)\n"
     ]
    },
    {
     "data": {
      "text/plain": [
       "Variance components:\n",
       "            Column      Variance      Std.Dev.    Corr.\n",
       "Item     (Intercept)  0.003204317379 0.056606690\n",
       "         P: unr       0.000066955436 0.008182630   .  \n",
       "Subj     (Intercept)  0.028859030413 0.169879458\n",
       "         Q: deg       0.000762085747 0.027605901 -0.39\n",
       "         lT: WD       0.003980569589 0.063091755   .     .  \n",
       "         lT: NW       0.000264287779 0.016256930   .     .     .  \n",
       "Residual              0.086408848803 0.293953821\n"
      ]
     },
     "execution_count": 18,
     "metadata": {},
     "output_type": "execute_result"
    }
   ],
   "source": [
    "m3form_b = @formula (-1000/rt) ~ 1 + F*P*Q*lQ*lT +\n",
    "        (1+Q | Subj) + zerocorr(0+lT | Subj) + zerocorr(1 + P | Item) ;\n",
    "mrk17_LMM_b = @btime fit(LinearMixedModel, m3form_b, dat, contrasts=contrasts);\n",
    "\n",
    "VarCorr(mrk17_LMM_b)"
   ]
  },
  {
   "cell_type": "markdown",
   "metadata": {},
   "source": [
    "This will be fixed. \n",
    "\n",
    "# Model comparisons"
   ]
  },
  {
   "cell_type": "code",
   "execution_count": 19,
   "metadata": {},
   "outputs": [
    {
     "name": "stderr",
     "output_type": "stream",
     "text": [
      "WARNING: redefining constant mods\n"
     ]
    },
    {
     "data": {
      "text/html": [
       "<table class=\"data-frame\"><thead><tr><th></th><th>dof</th><th>deviance</th><th>AIC</th><th>AICc</th><th>BIC</th></tr><tr><th></th><th>Int64</th><th>Float64</th><th>Float64</th><th>Float64</th><th>Float64</th></tr></thead><tbody><p>4 rows × 5 columns</p><tr><th>1</th><td>69</td><td>7147.55</td><td>7285.55</td><td>7286.14</td><td>7817.24</td></tr><tr><th>2</th><td>44</td><td>7188.49</td><td>7276.49</td><td>7276.73</td><td>7615.54</td></tr><tr><th>3</th><td>39</td><td>7186.82</td><td>7264.82</td><td>7265.01</td><td>7565.33</td></tr><tr><th>4</th><td>38</td><td>7195.87</td><td>7271.87</td><td>7272.06</td><td>7564.69</td></tr></tbody></table>"
      ],
      "text/latex": [
       "\\begin{tabular}{r|ccccc}\n",
       "\t& dof & deviance & AIC & AICc & BIC\\\\\n",
       "\t\\hline\n",
       "\t& Int64 & Float64 & Float64 & Float64 & Float64\\\\\n",
       "\t\\hline\n",
       "\t1 & 69 & 7147.55 & 7285.55 & 7286.14 & 7817.24 \\\\\n",
       "\t2 & 44 & 7188.49 & 7276.49 & 7276.73 & 7615.54 \\\\\n",
       "\t3 & 39 & 7186.82 & 7264.82 & 7265.01 & 7565.33 \\\\\n",
       "\t4 & 38 & 7195.87 & 7271.87 & 7272.06 & 7564.69 \\\\\n",
       "\\end{tabular}\n"
      ],
      "text/plain": [
       "4×5 DataFrame\n",
       "│ Row │ dof   │ deviance │ AIC     │ AICc    │ BIC     │\n",
       "│     │ \u001b[90mInt64\u001b[39m │ \u001b[90mFloat64\u001b[39m  │ \u001b[90mFloat64\u001b[39m │ \u001b[90mFloat64\u001b[39m │ \u001b[90mFloat64\u001b[39m │\n",
       "├─────┼───────┼──────────┼─────────┼─────────┼─────────┤\n",
       "│ 1   │ 69    │ 7147.55  │ 7285.55 │ 7286.14 │ 7817.24 │\n",
       "│ 2   │ 44    │ 7188.49  │ 7276.49 │ 7276.73 │ 7615.54 │\n",
       "│ 3   │ 39    │ 7186.82  │ 7264.82 │ 7265.01 │ 7565.33 │\n",
       "│ 4   │ 38    │ 7195.87  │ 7271.87 │ 7272.06 │ 7564.69 │"
      ]
     },
     "execution_count": 19,
     "metadata": {},
     "output_type": "execute_result"
    }
   ],
   "source": [
    "const mods = [cmplxLMM, zcpLMM, mrk17_LMM, rdcdLMM];\n",
    "gof_summary = DataFrame(dof=dof.(mods), deviance=deviance.(mods),\n",
    "              AIC = aic.(mods), AICc = aicc.(mods), BIC = bic.(mods))"
   ]
  },
  {
   "cell_type": "markdown",
   "metadata": {},
   "source": [
    "Here `dof` or degrees of freedom is the total number of parameters estimated \n",
    "in the model and `deviance` is simply negative twice the log-likelihood at \n",
    "convergence, without a correction for a saturated model.  The There information \n",
    "criteria are on a scale of \"smaller is better\" and all would select `mrk17_LMM` as \"best\".\n",
    "\n",
    "# Illustration of crossing and nesting of factors\n",
    "\n",
    "There is an implementation of Wilkinson & Rogers (1973) formula syntax, allowing the specification of factors not only as crossed, but also as nested in the levels of another factor or combination of factors. We illustrate this functionality with a subset of the MRK17 data. (We use oviLMM as RE structure and rt as dependent variable.)\n",
    "\n",
    "## Crossing factors\n",
    "\n",
    "The default analysis focuses on crossed factors yielding main effects and interactions."
   ]
  },
  {
   "cell_type": "code",
   "execution_count": 20,
   "metadata": {},
   "outputs": [
    {
     "name": "stdout",
     "output_type": "stream",
     "text": [
      "  18.269 ms (8610 allocations: 7.94 MiB)\n"
     ]
    },
    {
     "data": {
      "text/plain": [
       "Linear mixed model fit by maximum likelihood\n",
       " rt ~ 1 + F + P + F & P + (1 | Subj) + (1 | Item)\n",
       "     logLik        -2 logLik          AIC             BIC       \n",
       " -1.07702642×10⁵  2.15405285×10⁵  2.15419285×10⁵  2.15473224×10⁵\n",
       "\n",
       "Variance components:\n",
       "            Column    Variance   Std.Dev.  \n",
       "Item     (Intercept)    600.6089  24.507323\n",
       "Subj     (Intercept)   6858.5417  82.816313\n",
       "Residual              28526.1483 168.896857\n",
       " Number of obs: 16409; levels of grouping factors: 240, 73\n",
       "\n",
       "  Fixed-effects parameters:\n",
       "──────────────────────────────────────────────────────\n",
       "                 Estimate  Std.Error  z value  P(>|z|)\n",
       "──────────────────────────────────────────────────────\n",
       "(Intercept)     647.616      9.90951    65.35   <1e-99\n",
       "F: LF             7.76838    2.06014     3.77   0.0002\n",
       "P: unr            7.13002    1.31934     5.40   <1e-7 \n",
       "F: LF & P: unr    3.83349    1.31924     2.91   0.0037\n",
       "──────────────────────────────────────────────────────"
      ]
     },
     "execution_count": 20,
     "metadata": {},
     "output_type": "execute_result"
    }
   ],
   "source": [
    "m5form = @formula rt ~ 1 + F*P + (1 | Subj) + (1 | Item);\n",
    "crossedLMM = @btime fit(LinearMixedModel, m5form, dat, contrasts=contrasts)"
   ]
  },
  {
   "cell_type": "markdown",
   "metadata": {},
   "source": [
    "Main effects of frequency (F) and priming (P) and their interaction are significant."
   ]
  },
  {
   "cell_type": "code",
   "execution_count": 21,
   "metadata": {},
   "outputs": [
    {
     "data": {
      "text/html": [
       "<table class=\"data-frame\"><thead><tr><th></th><th>F</th><th>P</th><th>meanRT</th><th>sdRT</th><th>n</th></tr><tr><th></th><th>Categorical…</th><th>Categorical…</th><th>Float64</th><th>Float64</th><th>Int64</th></tr></thead><tbody><p>4 rows × 5 columns</p><tr><th>1</th><td>HF</td><td>rel</td><td>636.888</td><td>192.78</td><td>4154</td></tr><tr><th>2</th><td>HF</td><td>unr</td><td>642.603</td><td>184.051</td><td>4124</td></tr><tr><th>3</th><td>LF</td><td>rel</td><td>644.332</td><td>186.599</td><td>4107</td></tr><tr><th>4</th><td>LF</td><td>unr</td><td>665.376</td><td>195.107</td><td>4024</td></tr></tbody></table>"
      ],
      "text/latex": [
       "\\begin{tabular}{r|ccccc}\n",
       "\t& F & P & meanRT & sdRT & n\\\\\n",
       "\t\\hline\n",
       "\t& Categorical… & Categorical… & Float64 & Float64 & Int64\\\\\n",
       "\t\\hline\n",
       "\t1 & HF & rel & 636.888 & 192.78 & 4154 \\\\\n",
       "\t2 & HF & unr & 642.603 & 184.051 & 4124 \\\\\n",
       "\t3 & LF & rel & 644.332 & 186.599 & 4107 \\\\\n",
       "\t4 & LF & unr & 665.376 & 195.107 & 4024 \\\\\n",
       "\\end{tabular}\n"
      ],
      "text/plain": [
       "4×5 DataFrame\n",
       "│ Row │ F            │ P            │ meanRT  │ sdRT    │ n     │\n",
       "│     │ \u001b[90mCategorical…\u001b[39m │ \u001b[90mCategorical…\u001b[39m │ \u001b[90mFloat64\u001b[39m │ \u001b[90mFloat64\u001b[39m │ \u001b[90mInt64\u001b[39m │\n",
       "├─────┼──────────────┼──────────────┼─────────┼─────────┼───────┤\n",
       "│ 1   │ HF           │ rel          │ 636.888 │ 192.78  │ 4154  │\n",
       "│ 2   │ HF           │ unr          │ 642.603 │ 184.051 │ 4124  │\n",
       "│ 3   │ LF           │ rel          │ 644.332 │ 186.599 │ 4107  │\n",
       "│ 4   │ LF           │ unr          │ 665.376 │ 195.107 │ 4024  │"
      ]
     },
     "execution_count": 21,
     "metadata": {},
     "output_type": "execute_result"
    }
   ],
   "source": [
    "cellmeans = by(dat, [:F, :P], \n",
    "            meanRT = :rt => mean, sdRT = :rt => std, n = :rt => length)"
   ]
  },
  {
   "cell_type": "markdown",
   "metadata": {},
   "source": [
    "# Nesting factors\n",
    "\n",
    "The interaction tests whether lines visualizing the interaction are parallel, \n",
    "but depending on the theoretical context one might be interested whether the\n",
    "priming effect is significant high frequency targets and for low frequency targets. \n",
    "In other words, the focus is on whether the priming effect is significant for \n",
    "the levels of the frequency factor."
   ]
  },
  {
   "cell_type": "code",
   "execution_count": 22,
   "metadata": {},
   "outputs": [
    {
     "name": "stdout",
     "output_type": "stream",
     "text": [
      "  17.972 ms (8392 allocations: 7.55 MiB)\n"
     ]
    },
    {
     "data": {
      "text/plain": [
       "Linear mixed model fit by maximum likelihood\n",
       " rt ~ 1 + F + F & P + (1 | Subj) + (1 | Item)\n",
       "     logLik        -2 logLik          AIC             BIC       \n",
       " -1.07702642×10⁵  2.15405285×10⁵  2.15419285×10⁵  2.15473224×10⁵\n",
       "\n",
       "Variance components:\n",
       "            Column    Variance   Std.Dev.  \n",
       "Item     (Intercept)    600.6089  24.507323\n",
       "Subj     (Intercept)   6858.5412  82.816310\n",
       "Residual              28526.1483 168.896857\n",
       " Number of obs: 16409; levels of grouping factors: 240, 73\n",
       "\n",
       "  Fixed-effects parameters:\n",
       "──────────────────────────────────────────────────────\n",
       "                 Estimate  Std.Error  z value  P(>|z|)\n",
       "──────────────────────────────────────────────────────\n",
       "(Intercept)     647.616      9.90951    65.35   <1e-99\n",
       "F: LF             7.76838    2.06014     3.77   0.0002\n",
       "F: HF & P: unr    3.29654    1.85707     1.78   0.0759\n",
       "F: LF & P: unr   10.9635     1.87441     5.85   <1e-8 \n",
       "──────────────────────────────────────────────────────"
      ]
     },
     "execution_count": 22,
     "metadata": {},
     "output_type": "execute_result"
    }
   ],
   "source": [
    "m6form = @formula rt ~ 1 + F/P + (1 | Subj) + (1 | Item);\n",
    "nestedLMM = @btime fit(LinearMixedModel, m6form, dat, contrasts=contrasts)"
   ]
  },
  {
   "cell_type": "markdown",
   "metadata": {},
   "source": [
    "The results show that the priming effect is not significant for high-frequency\n",
    "targets. The estimates are the differences of the cell means from the grand \n",
    "mean (i.e., 2 x estimate = effect)."
   ]
  }
 ],
 "metadata": {
  "kernelspec": {
   "display_name": "Julia 1.3.1",
   "language": "julia",
   "name": "julia-1.3"
  },
  "language_info": {
   "file_extension": ".jl",
   "mimetype": "application/julia",
   "name": "julia",
   "version": "1.3.1"
  }
 },
 "nbformat": 4,
 "nbformat_minor": 2
}
