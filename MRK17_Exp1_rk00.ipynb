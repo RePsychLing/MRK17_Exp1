{
  "cells": [
    {
      "cell_type": "markdown",
      "source": [
        "# Using Contrasts Rather Than Factor Variables\n### Reinhold Kliegl\n### 2020-01-01\n# Packages \n\nThe following packages need to be added (\"installed\") once before they are available for use."
      ],
      "metadata": {}
    },
    {
      "outputs": [],
      "cell_type": "code",
      "source": [
        "using CSV, DataFrames, MixedModels, RCall"
      ],
      "metadata": {},
      "execution_count": null
    },
    {
      "cell_type": "markdown",
      "source": [
        "# Reading data"
      ],
      "metadata": {}
    },
    {
      "outputs": [],
      "cell_type": "code",
      "source": [
        "cd(joinpath(homedir(),\"Google Drive/ZiF_CG_WS2/MRK17_Exp1/\"))\n#cd(\"/Users/reinholdkliegl/Google Drive/ZiF_CG_WS2/MRK17_Exp1/\")\ndat = CSV.read(\"MRK17_Exp1_xtra.csv\")\ndescribe(dat)"
      ],
      "metadata": {},
      "execution_count": null
    },
    {
      "cell_type": "markdown",
      "source": [
        "Here F, P, Q, lQ, T are contrast-based variables (not factors)\n\n# LMM, varying only intercepts (oviLMM)\n\n## Model fit"
      ],
      "metadata": {}
    },
    {
      "outputs": [],
      "cell_type": "code",
      "source": [
        "m0form = @formula (-1000/rt) ~ 1+F*P*Q*lQ*lT + (1 | Subj) + (1 | Item)\noviLMM = fit(MixedModel, m0form, dat)"
      ],
      "metadata": {},
      "execution_count": null
    },
    {
      "cell_type": "markdown",
      "source": [
        "## Model summary"
      ],
      "metadata": {}
    },
    {
      "outputs": [],
      "cell_type": "code",
      "source": [
        "show(oviLMM)"
      ],
      "metadata": {},
      "execution_count": null
    }
  ],
  "nbformat_minor": 2,
  "metadata": {
    "language_info": {
      "file_extension": ".jl",
      "mimetype": "application/julia",
      "name": "julia",
      "version": "1.3.1"
    },
    "kernelspec": {
      "name": "julia-1.3",
      "display_name": "Julia 1.3.1",
      "language": "julia"
    }
  },
  "nbformat": 4
}
